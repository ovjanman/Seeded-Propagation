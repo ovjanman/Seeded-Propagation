{
 "cells": [
  {
   "cell_type": "code",
   "execution_count": 1,
   "id": "9bf9247a-302b-4e93-89b1-d7b63dba696a",
   "metadata": {},
   "outputs": [],
   "source": [
    "from PIL import Image, ImageDraw\n",
    "import numpy as np\n",
    "import numpy.random as random\n",
    "import math\n",
    "import os\n",
    "import matplotlib.pyplot as plt\n"
   ]
  },
  {
   "cell_type": "code",
   "execution_count": 2,
   "id": "2c2b7d12-b587-4c54-a98f-24603422b9ac",
   "metadata": {},
   "outputs": [
    {
     "name": "stdout",
     "output_type": "stream",
     "text": [
      "360\n"
     ]
    }
   ],
   "source": [
    "x_resolution = 5120\n",
    "y_resolution = 1440\n",
    "\n",
    "#radius of seed circle\n",
    "R = min([x_resolution,y_resolution])//4\n",
    "print(R)"
   ]
  },
  {
   "cell_type": "code",
   "execution_count": 3,
   "id": "16911508-8f61-4385-972f-21572713a29e",
   "metadata": {},
   "outputs": [],
   "source": [
    "rgbArray = np.zeros((y_resolution,x_resolution,3), 'uint8')\n",
    "\n",
    "\n",
    "#different background colours\n",
    "r = (np.ones([y_resolution,x_resolution])*25)\n",
    "g = (np.ones([y_resolution,x_resolution])*51)\n",
    "b = (np.ones([y_resolution,x_resolution])*56)\n",
    "\n",
    "# r = (np.ones([y_resolution,x_resolution])*16)\n",
    "# g = (np.ones([y_resolution,x_resolution])*37)\n",
    "# b = (np.ones([y_resolution,x_resolution])*38)\n",
    "\n",
    "# r = (np.ones([y_resolution,x_resolution])*48)\n",
    "# g = (np.ones([y_resolution,x_resolution])*10)\n",
    "# b = (np.ones([y_resolution,x_resolution])*110)\n",
    "\n",
    "colour_arrays = {'r':r,'g':g,'b':b}\n",
    "rgbArray[..., 0] = colour_arrays['r']\n",
    "rgbArray[..., 1] = colour_arrays['g']\n",
    "rgbArray[..., 2] = colour_arrays['b']\n",
    "img = Image.fromarray(rgbArray)\n",
    "#img.show()"
   ]
  },
  {
   "cell_type": "code",
   "execution_count": 4,
   "id": "ac133ce1-83f1-4427-a285-0bc18d96ae72",
   "metadata": {},
   "outputs": [],
   "source": [
    "#colour gens\n",
    "colour_collection = []\n",
    "\n",
    "#3 preset colour pallets for the agents\n",
    "\n",
    "colour_collection.append([205,126,89])\n",
    "colour_collection.append([69,115,115])\n",
    "colour_collection.append([221,178,71])\n",
    "colour_collection.append([90,104,104])\n",
    "\n",
    "\n",
    "# colour_collection.append([240,202,45])\n",
    "# colour_collection.append([20,174,219])\n",
    "# colour_collection.append([246,125,84])\n",
    "# colour_collection.append([209,242,149])\n",
    "\n",
    "\n",
    "# colour_collection.append([11,0,207])\n",
    "# colour_collection.append([255,45,43])\n",
    "# colour_collection.append([193,10,40])\n",
    "#colour_collection.append([115,186,211])\n"
   ]
  },
  {
   "cell_type": "code",
   "execution_count": 5,
   "id": "8dac3920-be6e-4269-9ae0-30b4c8c3616f",
   "metadata": {},
   "outputs": [],
   "source": [
    "#generate circle coords\n",
    "origins = []\n",
    "no_of_origins = 200\n",
    "for i in range(no_of_origins):\n",
    "    rnd = i/no_of_origins \n",
    "    r = R \n",
    "    theta = rnd * (2 * math.pi)\n",
    "    x = int(x_resolution//2 + r * math.cos(theta))\n",
    "    y = int(y_resolution//2 + r * math.sin(theta))\n",
    "    \n",
    "    origins.append([y,x])\n",
    "    \n",
    "    "
   ]
  },
  {
   "cell_type": "code",
   "execution_count": 6,
   "id": "093a4517-3697-4c66-a484-787b4d7055b7",
   "metadata": {},
   "outputs": [],
   "source": [
    "rgbArray[..., 0] = colour_arrays['r']\n",
    "rgbArray[..., 1] = colour_arrays['g']\n",
    "rgbArray[..., 2] = colour_arrays['b']\n",
    "img = Image.fromarray(rgbArray)\n",
    "img.show()"
   ]
  },
  {
   "cell_type": "code",
   "execution_count": 7,
   "id": "dfe83485-19c7-4c9d-8e52-1ec234721d47",
   "metadata": {},
   "outputs": [],
   "source": [
    "#how to change the position of the agent based on its direction\n",
    "#0 is north, 1 is north east, etc\n",
    "direction_instructions = {0:(-1,0),1:(-1,1),2:(0,1),3:(1,1),4:(1,0),5:(1,-1),6:(0,-1),7:(-1,-1)}\n",
    "#double time\n",
    "#direction_instructions = {0:(-2,0),1:(-2,2),2:(0,2),3:(2,2),4:(2,0),5:(2,-2),6:(0,-2),7:(-2,-2)}\n",
    "\n",
    "#which new directions are tried when colliding\n",
    "redirection_choices = {0:(3,4,5),1:(4,5,6),2:(5,6,7),3:(6,7,0),4:(7,0,1),5:(0,1,2),6:(1,2,3),7:(2,3,4)}"
   ]
  },
  {
   "cell_type": "code",
   "execution_count": 8,
   "id": "ab00c343-87a9-4a4c-812b-76b33e7275a5",
   "metadata": {},
   "outputs": [],
   "source": [
    "taken_cells_log = np.zeros([y_resolution,x_resolution])"
   ]
  },
  {
   "cell_type": "code",
   "execution_count": 9,
   "id": "8ee5a7ca-80ec-43fa-ab6b-84d1400490ea",
   "metadata": {},
   "outputs": [],
   "source": [
    "class Agent():\n",
    "    \n",
    "    def __init__(self,start_position,colour):\n",
    "        self.position = start_position\n",
    "        self.colour = colour\n",
    "        taken_cells_log[self.position[0],self.position[1]] = 1\n",
    "        self.direction = random.randint(8)\n",
    "        self.finished = False\n",
    "        \n",
    "        #brightness is used for the static B&W propogation map produced at the end. Makes nice wallpapers\n",
    "        self.brightness_red_step = 255/time\n",
    "        self.brightness_reduction = 0\n",
    "        \n",
    "    def update_position(self):\n",
    "        \n",
    "        if self.finished != True:\n",
    "        \n",
    "            #initial update\n",
    "            self.position[0] = self.position[0]+direction_instructions[self.direction][0]\n",
    "            self.position[1] = self.position[1]+direction_instructions[self.direction][1]\n",
    "\n",
    "            #check if it hits walls and if the new position is already taken in the taken_cells_log:\n",
    "            if (y_resolution-2< self.position[0]) or self.position[0]<2  or (x_resolution-2< self.position[1]) or self.position[1]<2 or taken_cells_log[self.position[0],self.position[1]] !=0:\n",
    "\n",
    "                \n",
    "                #undo initial change in position\n",
    "                self.position[0] = self.position[0]-direction_instructions[self.direction][0]\n",
    "                self.position[1] = self.position[1]-direction_instructions[self.direction][1]\n",
    "\n",
    "                #get new direction\n",
    "                new_direction = random.choice(redirection_choices[self.direction])\n",
    "\n",
    "                self.position[0] = self.position[0]+direction_instructions[new_direction][0]\n",
    "                self.position[1] = self.position[1]+direction_instructions[new_direction][1]\n",
    "\n",
    "                self.direction = new_direction\n",
    "                \n",
    "            #random chance to change direction\n",
    "            elif random.random() < 0.0035:\n",
    "                \n",
    "                self.position[0] = self.position[0]-direction_instructions[self.direction][0]\n",
    "                self.position[1] = self.position[1]-direction_instructions[self.direction][1]\n",
    "\n",
    "                new_direction = random.choice(8)\n",
    "\n",
    "                self.position[0] = self.position[0]+direction_instructions[new_direction][0]\n",
    "                self.position[1] = self.position[1]+direction_instructions[new_direction][1]\n",
    "\n",
    "                self.direction = new_direction\n",
    "                \n",
    "\n",
    "\n",
    "            try:\n",
    "                #add new position to taken_cells_log. Could play around with adding an area around the agent to mean that lines stay away from eachother but difficult for diagonals\n",
    "                taken_cells_log[self.position[0]:self.position[0]+1,self.position[1]:self.position[1]+1] = int(255 - self.brightness_reduction) #the number stored is \n",
    "                self.brightness_reduction += self.brightness_red_step\n",
    "            \n",
    "            except IndexError:\n",
    "                print('position out of bounds')\n",
    "                print(self.position)\n",
    "                \n",
    "            if y_resolution-2< self.position[0] or self.position[0]<2  or (x_resolution-2< self.position[1]) or self.position[1]<2:\n",
    "                #if new direction is also at the edge (usually when its run into a corner and is stuck)\n",
    "                #break propogation\n",
    "                self.finished = True\n",
    "                \n",
    "            else:\n",
    "\n",
    "                for colour in colour_arrays.keys():\n",
    "                    colour_arrays[colour][self.position[0]-1:self.position[0]+2,self.position[1]-1:self.position[1]+2] = self.colour[colour] #colours a 2x2 around the agent for thicker lines\n",
    "                    #colour_arrays[colour][self.position[0],self.position[1]] = self.colour[colour] #uncomment for thinner, single pixel lines (good for lower res)\n",
    "                \n",
    "        \n",
    "        "
   ]
  },
  {
   "cell_type": "code",
   "execution_count": 10,
   "id": "fabebccd-28aa-4727-a70e-8f9502e8dbfb",
   "metadata": {},
   "outputs": [],
   "source": [
    "def generate_colour():\n",
    "    colour = random.randint(len(colour_collection))\n",
    "    r = colour_collection[colour][0]\n",
    "    g = colour_collection[colour][1]\n",
    "    b = colour_collection[colour][2]\n",
    "    colour_arrays = {'r':r,'g':g,'b':b}\n",
    "    return colour_arrays"
   ]
  },
  {
   "cell_type": "code",
   "execution_count": 11,
   "id": "e4f7007e-9bc6-4eb3-ae1d-ebacedff9bc0",
   "metadata": {},
   "outputs": [
    {
     "name": "stdout",
     "output_type": "stream",
     "text": [
      "progress: 0 %\n",
      "progress: 5 %\n",
      "progress: 11 %\n",
      "progress: 17 %\n",
      "progress: 22 %\n",
      "progress: 28 %\n",
      "progress: 34 %\n",
      "progress: 40 %\n",
      "progress: 45 %\n",
      "progress: 51 %\n",
      "progress: 57 %\n",
      "progress: 62 %\n",
      "progress: 68 %\n",
      "progress: 74 %\n",
      "progress: 80 %\n",
      "progress: 85 %\n",
      "progress: 91 %\n",
      "progress: 97 %\n"
     ]
    }
   ],
   "source": [
    "\n",
    "time = 1750 #timesteps rendered\n",
    "#expect to take around 4 minutes\n",
    "agents = []\n",
    "\n",
    "for i in range(no_of_origins):\n",
    "    #generate list of agents\n",
    "    agents.append(Agent(origins[i],generate_colour()))\n",
    "\n",
    "for i in range(time):\n",
    "    \n",
    "    if i%100 == 0:\n",
    "        print('progress:',int(i/time*100),'%')\n",
    "        \n",
    "      \n",
    "    for agent in agents:\n",
    "        agent.update_position()\n",
    "    \n",
    "    \n",
    "    #Create image for timestep and save\n",
    "    rgbArray[..., 0] = colour_arrays['r']\n",
    "    rgbArray[..., 1] = colour_arrays['g']\n",
    "    rgbArray[..., 2] = colour_arrays['b']\n",
    "    img = Image.fromarray(rgbArray)\n",
    "    img.save('png_output/img_'+str(i)+'.png')\n",
    "    if i % 500 == 0 or i == 100:\n",
    "        img.show()\n",
    "        \n",
    "    "
   ]
  },
  {
   "cell_type": "code",
   "execution_count": null,
   "id": "1ca41aaa-a4b3-4523-9847-716f368ddd03",
   "metadata": {},
   "outputs": [],
   "source": [
    "#I used the video sequencer in blender to create the final video files. highly reccomend. Google \"how to make video from image sequence blender\""
   ]
  },
  {
   "cell_type": "code",
   "execution_count": 12,
   "id": "3677a378-9d20-4b56-ab10-c661a67ad21f",
   "metadata": {},
   "outputs": [],
   "source": [
    "#create B&W static propagation map\n",
    "img = Image.fromarray(taken_cells_log)\n",
    "img.show()"
   ]
  },
  {
   "cell_type": "code",
   "execution_count": null,
   "id": "ca53fba8-0a2b-4603-95fd-1cb350e961cd",
   "metadata": {},
   "outputs": [],
   "source": []
  }
 ],
 "metadata": {
  "kernelspec": {
   "display_name": "Python 3",
   "language": "python",
   "name": "python3"
  },
  "language_info": {
   "codemirror_mode": {
    "name": "ipython",
    "version": 3
   },
   "file_extension": ".py",
   "mimetype": "text/x-python",
   "name": "python",
   "nbconvert_exporter": "python",
   "pygments_lexer": "ipython3",
   "version": "3.8.8"
  }
 },
 "nbformat": 4,
 "nbformat_minor": 5
}
